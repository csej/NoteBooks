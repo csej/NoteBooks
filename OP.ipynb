{
 "cells": [
  {
   "cell_type": "code",
   "execution_count": 1,
   "metadata": {
    "collapsed": false
   },
   "outputs": [
    {
     "data": {
      "text/plain": [
       "['Input string: \"azer\" ; Reverse: \"reza\" ; Palindrome? False',\n",
       " 'Input string: \"aza\" ; Reverse: \"aza\" ; Palindrome? True',\n",
       " 'Input string: \"\" ; Reverse: \"\" ; Palindrome? True',\n",
       " 'Input string: \"gahohag\" ; Reverse: \"gahohag\" ; Palindrome? True']"
      ]
     },
     "execution_count": 1,
     "metadata": {},
     "output_type": "execute_result"
    }
   ],
   "source": [
    "############################ EXERCICE 1 ############################\n",
    "\n",
    "class Palindrome:\n",
    "\n",
    "#    no need to use a constructor for this case : we only need CLASS attributes (no INSTANCE attribute necessity)\n",
    "#    def __init__(self):\n",
    "#        self.string = ''\n",
    "\n",
    "    def reverse(self,string):\n",
    "        return string[::-1]\n",
    "\n",
    "    def isPalindrome(self,string):\n",
    "        return self.reverse(string) == string\n",
    "\n",
    "a = Palindrome()\n",
    "\n",
    "# Check various strings\n",
    "strings = ['azer','aza','', 'gahohag']\n",
    "[ 'Input string: \"'+s+ '\" ; Reverse: \"'+a.reverse(s)+ '\" ; Palindrome? ' +str(a.isPalindrome(s)) for s in strings ]"
   ]
  },
  {
   "cell_type": "code",
   "execution_count": 2,
   "metadata": {
    "collapsed": false
   },
   "outputs": [],
   "source": [
    "############################ EXERCICE 2 ############################\n",
    "\n",
    "# Recursive implementation of the sieve of Eratosthenes.\n",
    "# Remark : has to be optimized for larger range but in our case it's :\n",
    "# 1) beyond the scope of this no-external-support evaluation\n",
    "# 2) and simply unnecessary for n = 100 000 (run in < 30 sec)\n",
    "def eratosthene(n):\n",
    "    if not n or n[0]**2 > n[-1]: # stop criteria\n",
    "        return n\n",
    "    else:\n",
    "        head = n[0]\n",
    "        tail = n[1::]\n",
    "        for v in tail:\n",
    "            if v%head == 0: # remove int that are multiple of head\n",
    "                tail.remove(v)\n",
    "        return [head] + eratosthene(tail)\n",
    "\n",
    "\n",
    "# Compute the list of prime numbers < limit\n",
    "limit = 100000\n",
    "n = list(range(2,limit))\n",
    "primes = eratosthene(n)\n",
    "\n",
    "# Generate as many pseudo-random int as we have prime numbers (keys aren't asked to be sorted)\n",
    "import random\n",
    "keys = random.sample(range(limit), len(primes))\n",
    "\n",
    "# Produce the dictionary\n",
    "dictionary = dict(zip(keys, primes))\n",
    "\n",
    "# Persist the dictionary in a txt file using json format\n",
    "import json\n",
    "json.dump( dictionary, open('ex2.txt', 'w') , indent=4 ) # ASCII is ensured by default"
   ]
  },
  {
   "cell_type": "code",
   "execution_count": 3,
   "metadata": {
    "collapsed": false
   },
   "outputs": [
    {
     "data": {
      "text/plain": [
       "[<_sre.SRE_Match object; span=(0, 8), match='abababab'>,\n",
       " <_sre.SRE_Match object; span=(0, 10), match='aaaaaaabab'>,\n",
       " <_sre.SRE_Match object; span=(0, 2), match='ab'>,\n",
       " <_sre.SRE_Match object; span=(0, 9), match='aabaabaab'>]"
      ]
     },
     "execution_count": 3,
     "metadata": {},
     "output_type": "execute_result"
    }
   ],
   "source": [
    "############################ EXERCICE 3 ############################\n",
    "\n",
    "strings = [\n",
    "'abababab',\n",
    "'aaaaaaabab',\n",
    "'ab',\n",
    "'aabaabaab' ]\n",
    "\n",
    "# A string matchs if it's composed of :\n",
    "# 1) a sequence of one or multiple 'ab' pattern AND\n",
    "# 2) eventually a sequence of 'a' before a 'ab' pattern\n",
    "import re\n",
    "pattern = '(a*ab)+'\n",
    "[ re.match(pattern,s) for s in strings ]"
   ]
  },
  {
   "cell_type": "code",
   "execution_count": 4,
   "metadata": {
    "collapsed": false
   },
   "outputs": [
    {
     "name": "stderr",
     "output_type": "stream",
     "text": [
      "/home/christophe/anaconda3/lib/python3.5/site-packages/matplotlib/__init__.py:872: UserWarning: axes.color_cycle is deprecated and replaced with axes.prop_cycle; please use the latter.\n",
      "  warnings.warn(self.msg_depr % (key, alt_key))\n"
     ]
    },
    {
     "data": {
      "text/plain": [
       "<matplotlib.axes._subplots.AxesSubplot at 0x7fe01c9aca58>"
      ]
     },
     "execution_count": 4,
     "metadata": {},
     "output_type": "execute_result"
    },
    {
     "data": {
      "image/png": "[encoded data removed]",
      "text/plain": [
       "<matplotlib.figure.Figure at 0x7fe01c9ac390>"
      ]
     },
     "metadata": {},
     "output_type": "display_data"
    }
   ],
   "source": [
    "############################ EXERCICE 4 ############################\n",
    "\n",
    "%matplotlib inline\n",
    "import matplotlib\n",
    "import numpy as np\n",
    "import matplotlib.pyplot as plt\n",
    "import seaborn as sns\n",
    "\n",
    "# Number of arrays to generate\n",
    "n = 5\n",
    "\n",
    "# Generate n numpy arrays of 100 elements from uniform [0,1[ distribution\n",
    "mat = np.random.random((n, 100))\n",
    "\n",
    "# Persist mat in a txt file (we also could have used tempfile through \"from tempfile import TemporaryFile\")\n",
    "fileName = 'ex4.txt'\n",
    "np.savetxt(fileName, mat)\n",
    "\n",
    "# Load previously persisted file\n",
    "matBack = np.loadtxt(fileName)\n",
    "\n",
    "# Compute the covariance matrix\n",
    "cov = np.cov(matBack)\n",
    "\n",
    "# Remark : it may be interesting to plot the heatmap of the correlation matrix.\n",
    "# As expected, we observe that :\n",
    "# - the matrix is symetric\n",
    "# - diagonal terms are equal to one\n",
    "# - extra-diag terms are negligeable (random numbers have been generated independently)\n",
    "\n",
    "# Compute the covariance matrix\n",
    "corr = np.corrcoef(matBack)\n",
    "\n",
    "# Draw the heatmap using seaborn\n",
    "sns.heatmap(corr, square=True)\n"
   ]
  }
 ],
 "metadata": {
  "kernelspec": {
   "display_name": "Python 3",
   "language": "python",
   "name": "python3"
  },
  "language_info": {
   "codemirror_mode": {
    "name": "ipython",
    "version": 3
   },
   "file_extension": ".py",
   "mimetype": "text/x-python",
   "name": "python",
   "nbconvert_exporter": "python",
   "pygments_lexer": "ipython3",
   "version": "3.5.1"
  }
 },
 "nbformat": 4,
 "nbformat_minor": 0
}
